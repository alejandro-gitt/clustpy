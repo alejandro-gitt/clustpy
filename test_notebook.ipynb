{
  "cells": [
    {
      "cell_type": "markdown",
      "metadata": {
        "id": "82b776a0-8515-4167-a173-0d8584cce314"
      },
      "source": [
        "Prueba de jupyter notebook\n",
        "Ejemplos de uso de networkx para futuras referencias"
      ],
      "id": "82b776a0-8515-4167-a173-0d8584cce314"
    },
    {
      "cell_type": "code",
      "execution_count": 1,
      "metadata": {
        "colab": {
          "base_uri": "https://localhost:8080/"
        },
        "id": "-sJ3o_XL_Bvi",
        "outputId": "5a784cda-c6f5-4861-cd36-12a1f47a83fe"
      },
      "outputs": [
        {
          "output_type": "stream",
          "name": "stdout",
          "text": [
            "Mounted at /content/drive\n",
            "/content\n"
          ]
        }
      ],
      "source": [
        "from google.colab import drive\n",
        "import os, sys\n",
        "\n",
        "drive.mount('/content/drive')\n",
        "print(os.getcwd())\n",
        "os.chdir('/content/drive/My Drive/2021-2022/2C/TFG')\n",
        "sys.path.append('/content/drive/My Drive/2021-2022/2C/TFG/clustpy')"
      ],
      "id": "-sJ3o_XL_Bvi"
    },
    {
      "cell_type": "code",
      "execution_count": 2,
      "metadata": {
        "colab": {
          "base_uri": "https://localhost:8080/"
        },
        "id": "6d22b9f1-67f8-44b6-a05f-b9c555bd7ef0",
        "outputId": "3cccc3d2-618d-4e8d-ef11-063667633ad1"
      },
      "outputs": [
        {
          "output_type": "execute_result",
          "data": {
            "text/plain": [
              "<module 'tabusearch' from '/content/drive/My Drive/2021-2022/2C/TFG/clustpy/tabusearch.py'>"
            ]
          },
          "metadata": {},
          "execution_count": 2
        }
      ],
      "source": [
        "import networkx as nx\n",
        "import matplotlib.pyplot as plt\n",
        "import pandas as pd\n",
        "from random import randint\n",
        "# For color mapping\n",
        "import matplotlib.colors as colors\n",
        "import matplotlib.cm as cmx\n",
        "from networkx.algorithms import community\n",
        "\n",
        "import mymod as mod\n",
        "from mymod import mymodularity\n",
        "\n",
        "import tabusearch\n",
        "from tabusearch import tabu_modularity_optimization\n",
        "\n",
        "import importlib\n",
        "importlib.reload(mod)\n",
        "importlib.reload(tabusearch)"
      ],
      "id": "6d22b9f1-67f8-44b6-a05f-b9c555bd7ef0"
    },
    {
      "cell_type": "markdown",
      "metadata": {
        "id": "8c0d5917-4507-48b4-98a3-fc12f86e622a"
      },
      "source": [
        "Obtenemos datos de los nodos y enlaces de los csv:"
      ],
      "id": "8c0d5917-4507-48b4-98a3-fc12f86e622a"
    },
    {
      "cell_type": "code",
      "execution_count": 3,
      "metadata": {
        "id": "c3dd253e-6965-4c73-ae57-c160cffb7e65"
      },
      "outputs": [],
      "source": [
        "nodes_path = r'/content/drive/My Drive/2021-2022/2C/TFG/datos/Nodes_t1.csv'\n",
        "edges_path = r'/content/drive/My Drive/2021-2022/2C/TFG/datos/Edges_t1.csv'\n",
        "df_nodes = pd.read_csv(nodes_path, sep = ';',encoding='unicode_escape')\n",
        "df_edges = pd.read_csv(edges_path, sep = ';',encoding='unicode_escape')"
      ],
      "id": "c3dd253e-6965-4c73-ae57-c160cffb7e65"
    },
    {
      "cell_type": "markdown",
      "metadata": {
        "id": "d62647b6-2ba0-4747-9815-9ea81900210b"
      },
      "source": [
        "Creamos grafo de todos los alumnos:"
      ],
      "id": "d62647b6-2ba0-4747-9815-9ea81900210b"
    },
    {
      "cell_type": "code",
      "execution_count": 4,
      "metadata": {
        "id": "4ea1a284-a09c-4510-be6a-0bd2b81552b4"
      },
      "outputs": [],
      "source": [
        "MDG = nx.MultiDiGraph()\n",
        "MDG.add_nodes_from(df_nodes['Nodes'])\n",
        "\n",
        "tuples_from_to = []\n",
        "for i in range(len(df_edges)):\n",
        "    #tuples_from_to.append((df_edges['from'][i],df_edges['to'][i],{\"weight\":df_edges['weight'][i]}))\n",
        "    tuples_from_to.append((df_edges['from'][i],df_edges['to'][i],df_edges['weight'][i]))\n",
        "\n",
        "MDG.add_weighted_edges_from(tuples_from_to)\n",
        "# Para obtener los todos los pesos:\n",
        "#print([element[2]['weight'] for element in list(MDG.edges(data=True))])"
      ],
      "id": "4ea1a284-a09c-4510-be6a-0bd2b81552b4"
    },
    {
      "cell_type": "markdown",
      "source": [
        "Creamos grafos por aulas:"
      ],
      "metadata": {
        "id": "_VhlVwEcirEu"
      },
      "id": "_VhlVwEcirEu"
    },
    {
      "cell_type": "code",
      "source": [
        "n_grados = df_nodes[\"Curso\"].nunique()\n",
        "grafos = []\n",
        "results_dict = {}\n",
        "for i in range(n_grados):\n",
        "    j=i+1\n",
        "    aulas = df_nodes[df_nodes[\"Curso\"] == \"%sº ESO\" % j]['Grupo'].unique()\n",
        "    n_aulas = df_nodes[df_nodes[\"Curso\"] == \"%sº ESO\" % j]['Grupo'].nunique()\n",
        "\n",
        "    for aula in aulas:\n",
        "        newMDG = nx.MultiDiGraph()\n",
        "        alumnos_en_aula = df_nodes[df_nodes[\"Curso\"] == \"%sº ESO\" % j][df_nodes[\"Grupo\"] == \"%s\" % aula]['Nodes']\n",
        "\n",
        "        fromtos = []\n",
        "        for alumno in alumnos_en_aula:\n",
        "            fromtos.append(list(zip(list(df_edges.loc[df_edges['from'] == alumno]['from']),list(df_edges.loc[df_edges['from'] == alumno]['to']),list(df_edges.loc[df_edges['from'] == alumno]['weight']))))\n",
        "        enlaces_aula = [item for sublist in fromtos for item in sublist]\n",
        "\n",
        "        MDGaula = nx.MultiDiGraph()\n",
        "        MDGaula.add_nodes_from(alumnos_en_aula)\n",
        "        MDGaula.add_weighted_edges_from(enlaces_aula)\n",
        "        grafos.append(MDGaula)\n",
        "        results_dict[\"%sº ESO %s\" % (j,aula)] = {'graph': MDGaula, 'init_modularity': None,'final_modularity': None}\n",
        "\n",
        "for clase in list(results_dict.keys())[20:21]:#última clase (hay 21 clases)\n",
        "    \n",
        "    MDG_clase = results_dict[clase]['graph']\n",
        "    pares = frozenset([nodo for nodo in MDG_clase.nodes if nodo%2 == 0])\n",
        "    impares = frozenset([nodo for nodo in MDG_clase.nodes if nodo%2 != 0])\n",
        "    c = [pares,impares]\n",
        "\n",
        "    results_dict[clase]['init_modularity'] = mymodularity(MDG_clase,c[:])\n",
        "    optimized_communities = tabu_modularity_optimization(MDG_clase,c[:])\n",
        "    results_dict[clase]['final_modularity'] =  mymodularity(MDG_clase, optimized_communities[:])\n",
        "\n",
        "print(results_dict)"
      ],
      "metadata": {
        "colab": {
          "base_uri": "https://localhost:8080/"
        },
        "id": "vfNY5NWPYCzH",
        "outputId": "18de043a-7c41-4015-f1f4-7fc188eb76a3"
      },
      "id": "vfNY5NWPYCzH",
      "execution_count": 9,
      "outputs": [
        {
          "output_type": "stream",
          "name": "stderr",
          "text": [
            "/usr/local/lib/python3.7/dist-packages/ipykernel_launcher.py:13: UserWarning: Boolean Series key will be reindexed to match DataFrame index.\n",
            "  del sys.path[0]\n"
          ]
        },
        {
          "output_type": "stream",
          "name": "stdout",
          "text": [
            "maximo de vueltas inutiles 1\n",
            "{'1º ESO A': {'graph': <networkx.classes.multidigraph.MultiDiGraph object at 0x7f42785a5190>, 'init_modularity': None, 'final_modularity': None}, '1º ESO B': {'graph': <networkx.classes.multidigraph.MultiDiGraph object at 0x7f4285709850>, 'init_modularity': None, 'final_modularity': None}, '1º ESO C': {'graph': <networkx.classes.multidigraph.MultiDiGraph object at 0x7f4277e71590>, 'init_modularity': None, 'final_modularity': None}, '1º ESO D': {'graph': <networkx.classes.multidigraph.MultiDiGraph object at 0x7f42785a5910>, 'init_modularity': None, 'final_modularity': None}, '1º ESO E': {'graph': <networkx.classes.multidigraph.MultiDiGraph object at 0x7f4278e02e50>, 'init_modularity': None, 'final_modularity': None}, '1º ESO F': {'graph': <networkx.classes.multidigraph.MultiDiGraph object at 0x7f4280e2c550>, 'init_modularity': None, 'final_modularity': None}, '1º ESO G': {'graph': <networkx.classes.multidigraph.MultiDiGraph object at 0x7f427b8c9610>, 'init_modularity': None, 'final_modularity': None}, '2º ESO A': {'graph': <networkx.classes.multidigraph.MultiDiGraph object at 0x7f427ca4cb90>, 'init_modularity': None, 'final_modularity': None}, '2º ESO B': {'graph': <networkx.classes.multidigraph.MultiDiGraph object at 0x7f42790c0410>, 'init_modularity': None, 'final_modularity': None}, '2º ESO C': {'graph': <networkx.classes.multidigraph.MultiDiGraph object at 0x7f4285709510>, 'init_modularity': None, 'final_modularity': None}, '2º ESO D': {'graph': <networkx.classes.multidigraph.MultiDiGraph object at 0x7f4278faf310>, 'init_modularity': None, 'final_modularity': None}, '2º ESO P': {'graph': <networkx.classes.multidigraph.MultiDiGraph object at 0x7f4278e1d3d0>, 'init_modularity': None, 'final_modularity': None}, '2º ESO E': {'graph': <networkx.classes.multidigraph.MultiDiGraph object at 0x7f42790f3450>, 'init_modularity': None, 'final_modularity': None}, '2º ESO F': {'graph': <networkx.classes.multidigraph.MultiDiGraph object at 0x7f42799427d0>, 'init_modularity': None, 'final_modularity': None}, '2º ESO G': {'graph': <networkx.classes.multidigraph.MultiDiGraph object at 0x7f42785a5390>, 'init_modularity': None, 'final_modularity': None}, '3º ESO A': {'graph': <networkx.classes.multidigraph.MultiDiGraph object at 0x7f4279e53f90>, 'init_modularity': None, 'final_modularity': None}, '3º ESO B': {'graph': <networkx.classes.multidigraph.MultiDiGraph object at 0x7f4278e234d0>, 'init_modularity': None, 'final_modularity': None}, '3º ESO C': {'graph': <networkx.classes.multidigraph.MultiDiGraph object at 0x7f42785aafd0>, 'init_modularity': None, 'final_modularity': None}, '3º ESO P': {'graph': <networkx.classes.multidigraph.MultiDiGraph object at 0x7f4278e1d510>, 'init_modularity': None, 'final_modularity': None}, '3º ESO D': {'graph': <networkx.classes.multidigraph.MultiDiGraph object at 0x7f4277e7d990>, 'init_modularity': None, 'final_modularity': None}, '3º ESO E': {'graph': <networkx.classes.multidigraph.MultiDiGraph object at 0x7f4278e02750>, 'init_modularity': 0.08477358277580135, 'final_modularity': 0.22322305747316248}}\n"
          ]
        }
      ]
    },
    {
      "cell_type": "markdown",
      "metadata": {
        "id": "046daad4-bbfc-4974-be9c-4658b369d226"
      },
      "source": [
        "Dibujamos grafo de distintas formas\n",
        "Primero coloreando los enlaces positivos y negativos"
      ],
      "id": "046daad4-bbfc-4974-be9c-4658b369d226"
    },
    {
      "cell_type": "code",
      "execution_count": 163,
      "metadata": {
        "id": "bcdcb621-914b-46a8-a364-d06d82944eb7"
      },
      "outputs": [],
      "source": [
        "#Creamos leyenda en función de las relaciones en\n",
        "# cNorm = colors.Normalize(vmin = df_edges['weight'].min(), vmax = df_edges['weight'].max())\n",
        "# scalarMap = cmx.ScalarMappable(norm = cNorm, cmap = plt.cm.RdBu)\n",
        "# ColorLegend = {'negativo fuerte': -2, \n",
        "#            'negativo débil': -1, \n",
        "#            'positivo fuerte': 2, \n",
        "#            'positivo débil': 1}\n",
        "\n",
        "# f = plt.figure(1)\n",
        "# ax = f.add_subplot(1,1,1)\n",
        "# for label in ColorLegend:\n",
        "#     ax.plot([0],[0],color=scalarMap.to_rgba(ColorLegend[label]),label=label)\n",
        "\n",
        "# plt.legend(loc = 'lower right')\n",
        "# nx.draw_shell(MDG,node_size=10,width = 0.1,vmin = df_edges['weight'].min(),vmax=df_edges['weight'].max(),edge_color=df_edges['weight'],edge_cmap=plt.cm.RdBu,ax=ax)\n",
        "# plt.show()"
      ],
      "id": "bcdcb621-914b-46a8-a364-d06d82944eb7"
    },
    {
      "cell_type": "code",
      "execution_count": 164,
      "metadata": {
        "id": "6c185fce-43ae-4e3e-b1e7-7f9db8b220fb"
      },
      "outputs": [],
      "source": [
        "# nx.draw_random(MDG,node_size=10,width = 0.1,edge_color=df_edges['weight'],edge_cmap=plt.cm.RdBu)\n",
        "\n",
        "# plt.show()"
      ],
      "id": "6c185fce-43ae-4e3e-b1e7-7f9db8b220fb"
    },
    {
      "cell_type": "code",
      "execution_count": 165,
      "metadata": {
        "id": "a0e41f0d-9269-4e59-8f0a-aeef7e8d00d0"
      },
      "outputs": [],
      "source": [
        "# nx.draw_spring(MDG,node_size=10,width = 0.1,edge_color=df_edges['weight'],edge_cmap=plt.cm.RdBu)\n",
        "# print(MDG)\n",
        "# plt.show()"
      ],
      "id": "a0e41f0d-9269-4e59-8f0a-aeef7e8d00d0"
    },
    {
      "cell_type": "raw",
      "metadata": {
        "id": "bf0d8d65-1935-4fc4-a028-bfb4ea664db5"
      },
      "source": [
        "Empezamos con las comunidades:\n",
        "Por cada comunidad que hagamos crearemos nuevos Grafos"
      ],
      "id": "bf0d8d65-1935-4fc4-a028-bfb4ea664db5"
    },
    {
      "cell_type": "code",
      "execution_count": 166,
      "metadata": {
        "colab": {
          "base_uri": "https://localhost:8080/"
        },
        "id": "e57c361d-2f6e-4062-a88a-6cfa8e2e05ff",
        "outputId": "f85d5217-f8dd-468c-9e1c-87da9b0968af"
      },
      "outputs": [
        {
          "output_type": "stream",
          "name": "stdout",
          "text": [
            "frozenset({264, 268, 270, 276, 282, 284, 192, 194, 322, 196, 198, 200, 202, 204, 206, 208, 336, 210, 212, 216, 218, 220, 350, 222, 224, 228, 234, 244, 252, 254})\n"
          ]
        }
      ],
      "source": [
        "# c = list(community.modularity_max.greedy_modularity_communities(MDG1A))\n",
        "\n",
        "pares = frozenset([alumnospares for alumnospares in MDG1A.nodes if alumnospares%2 == 0])\n",
        "impares = frozenset([alumnosimpares for alumnosimpares in MDG1A.nodes if alumnosimpares%2 != 0])\n",
        "print(pares)\n",
        "c = [pares,impares]\n",
        "# for k in c:\n",
        "#     mdg_iter = nx.MultiDiGraph()\n",
        "#     mdg_iter.add_nodes_from(k)\n",
        "#     tuples_from_to = []\n",
        "#     for i in k:\n",
        "#         # Encontramos filas de la lista de pesos que tenga de 'from' el nodo 'i' de esta comunidad\n",
        "#         rows_found = df_edges.loc[df_edges['from'] == i]\n",
        "#         list_from = rows_found['from'].tolist()\n",
        "#         list_to = rows_found['to'].tolist()\n",
        "#         list_weight = rows_found['weight'].tolist()\n",
        "\n",
        "#         for j in range(len(rows_found)):\n",
        "#             tuples_from_to.append((list_from[j], list_to[j], list_weight[j]))\n",
        "\n",
        "#     mdg_iter.add_weighted_edges_from(tuples_from_to)\n",
        "\n",
        "#     resulting_weights = list(map(lambda x: x[2], tuples_from_to))\n",
        "\n",
        "#     #Creamos leyenda en función de las relaciones en\n",
        "#     cNorm = colors.Normalize(vmin = min(resulting_weights), vmax = max(resulting_weights))\n",
        "#     scalarMap = cmx.ScalarMappable(norm = cNorm, cmap = plt.cm.RdBu)\n",
        "#     ColorLegend = {'negativo fuerte': -2, \n",
        "#                'negativo débil': -1, \n",
        "#                'positivo fuerte': 2, \n",
        "#                'positivo débil': 1}\n",
        "\n",
        "#     f = plt.figure(1)\n",
        "#     ax = f.add_subplot(1,1,1)\n",
        "#     for label in ColorLegend:\n",
        "#         ax.plot([0],[0],color=scalarMap.to_rgba(ColorLegend[label]),label=label)\n",
        "\n",
        "#     plt.legend(loc = 'lower right')\n",
        "#     nx.draw_shell(mdg_iter,node_size=10,width = 0.1,vmin = min(resulting_weights), vmax = max(resulting_weights), edge_color = resulting_weights ,edge_cmap=plt.cm.RdBu,ax=ax)\n",
        "#     plt.show()"
      ],
      "id": "e57c361d-2f6e-4062-a88a-6cfa8e2e05ff"
    },
    {
      "cell_type": "markdown",
      "metadata": {
        "id": "40371372"
      },
      "source": [
        "Si calculamos la modularidad de esta partición, con la función que existe en networkx:"
      ],
      "id": "40371372"
    },
    {
      "cell_type": "code",
      "execution_count": 167,
      "metadata": {
        "colab": {
          "base_uri": "https://localhost:8080/"
        },
        "id": "8cab7515-7e53-4bf0-beb8-586aeb803aae",
        "outputId": "2863fe90-5785-4419-9b18-fd214ed8a039"
      },
      "outputs": [
        {
          "output_type": "stream",
          "name": "stdout",
          "text": [
            "[(207, 191, 1), (207, 194, 2), (207, 201, -1), (207, 202, 1), (207, 205, 2), (207, 206, 2), (207, 284, 2), (207, 311, 2), (206, 191, 2), (206, 194, 1), (206, 196, 1), (206, 197, 2), (206, 198, 2), (206, 199, 2), (206, 201, 1), (206, 202, 2), (206, 204, 1), (206, 207, 1), (206, 209, 1), (206, 210, 1), (206, 211, 1), (206, 212, 1), (206, 215, 1), (206, 218, 1), (206, 220, 1), (206, 223, 1), (206, 257, 2), (206, 264, 2), (206, 284, 2), (206, 285, 1), (206, 311, 2), (205, 193, 1), (205, 194, 2), (205, 195, 2), (205, 199, 1), (205, 201, 1), (205, 202, 2), (205, 204, 2), (205, 207, 2), (204, 191, 1), (204, 192, 1), (204, 193, 1), (204, 194, 1), (204, 195, 2), (204, 196, 2), (204, 197, 2), (204, 198, 1), (204, 199, 2), (204, 202, 1), (204, 203, 1), (204, 205, 1), (204, 206, 1), (204, 207, 1), (204, 209, 2), (204, 215, 1), (204, 218, 2), (204, 220, 1), (204, 270, 2), (203, 191, 1), (203, 192, 1), (203, 193, 1), (203, 194, 1), (203, 195, 2), (203, 196, 1), (203, 197, 1), (203, 198, 1), (203, 199, 1), (203, 200, 1), (203, 201, 1), (203, 202, 1), (203, 204, 1), (203, 205, 1), (203, 206, 1), (203, 207, 1), (203, 208, 2), (203, 210, 1), (203, 211, 1), (203, 212, 1), (203, 213, 1), (203, 215, 1), (203, 216, 1), (203, 218, 1), (203, 220, 1), (203, 221, 2), (203, 223, 1), (203, 228, 1), (203, 247, 1), (203, 257, 1), (203, 264, 1), (203, 276, 1), (200, 208, 2), (200, 213, 1), (200, 221, 1), (200, 228, 2), (200, 277, 1), (199, 191, 1), (199, 192, 1), (199, 194, 1), (199, 196, 1), (199, 197, 2), (199, 198, 1), (199, 202, 1), (199, 204, 2), (199, 205, 1), (199, 209, 2), (198, 191, 2), (198, 194, 1), (198, 197, 2), (198, 199, 1), (198, 204, 1), (198, 206, 1), (198, 210, 1), (198, 211, 1), (198, 212, 1), (198, 215, 1), (198, 218, 1), (198, 223, 1), (198, 257, 2), (198, 264, 1), (198, 284, 2), (198, 285, 1), (198, 336, 1), (198, 350, 1), (198, 359, 1), (197, 191, 2), (197, 192, 1), (197, 193, 1), (197, 194, 1), (197, 195, 1), (197, 196, 2), (197, 198, 2), (197, 199, 2), (197, 200, 1), (197, 201, 1), (197, 202, 1), (197, 203, 1), (197, 204, 2), (197, 205, 1), (197, 206, 1), (197, 207, 1), (197, 209, 2), (197, 218, 1), (197, 270, 1), (196, 191, 2), (196, 192, 2), (196, 193, 2), (196, 194, 2), (196, 195, 2), (196, 197, 2), (196, 198, 1), (196, 199, 2), (196, 201, 1), (196, 202, 1), (196, 203, 1), (196, 204, 1), (196, 205, 1), (196, 206, 1), (196, 207, 1), (196, 209, 2), (196, 218, 2), (196, 264, 2), (196, 270, 1), (195, 191, 1), (195, 192, 1), (195, 193, 1), (195, 194, 1), (195, 196, 1), (195, 198, 1), (195, 200, 1), (195, 202, 1), (195, 203, 2), (195, 204, 2), (195, 205, 2), (195, 208, 1), (195, 209, 1), (195, 218, 1), (195, 257, 2), (195, 270, 2), (195, 276, 1), (194, 191, 1), (194, 192, 1), (194, 193, 2), (194, 195, 2), (194, 196, 1), (194, 197, 1), (194, 198, 1), (194, 199, 1), (194, 201, 1), (194, 202, 1), (194, 203, 1), (194, 204, 1), (194, 205, 2), (194, 206, 1), (194, 207, 2), (193, 191, 2), (193, 192, 2), (193, 194, 2), (193, 195, 1), (193, 196, 1), (193, 197, 1), (193, 198, 2), (193, 199, 2), (193, 201, 1), (193, 203, 2), (193, 204, 1), (193, 205, 1), (193, 206, 1), (193, 208, 1), (193, 209, 1), (193, 212, 1), (193, 217, 1), (193, 218, 1), (193, 221, 1), (193, 222, 1), (193, 224, 1), (193, 227, 1), (193, 234, 1), (193, 243, 1), (193, 244, 1), (193, 245, 1), (193, 252, 1), (193, 254, 1), (193, 255, 1), (193, 259, 1), (193, 263, 1), (193, 268, 1), (193, 275, 1), (193, 282, 1), (193, 303, 1), (193, 317, 1), (193, 319, 1), (193, 322, 1), (192, 193, 2), (192, 194, 1), (192, 195, 1), (192, 196, 1), (192, 197, 2), (192, 198, 1), (192, 199, 2), (192, 201, 1), (192, 202, 1), (192, 203, 1), (192, 204, 1), (192, 205, 1), (192, 206, 1), (192, 207, 1), (192, 211, -1), (192, 215, -2), (192, 218, 1), (192, 221, 1), (192, 222, 1), (192, 224, 1), (192, 259, 1), (192, 270, 1), (191, 198, -2), (191, 211, -2), (191, 212, 2), (191, 215, -2), (191, 223, 2), (191, 285, 2)]\n",
            "-0.03315612071422258\n"
          ]
        }
      ],
      "source": [
        "print(MDG1A.edges(data = 'weight'))\n",
        "print(community.quality.modularity(MDG1A,c,weight='weight',resolution=1))"
      ],
      "id": "8cab7515-7e53-4bf0-beb8-586aeb803aae"
    },
    {
      "cell_type": "markdown",
      "metadata": {
        "id": "6fb6eaba"
      },
      "source": [
        "En cambio, si calculamos la modularidad con nuestra función, que tiene en cuenta los pesos negativos:"
      ],
      "id": "6fb6eaba"
    },
    {
      "cell_type": "code",
      "execution_count": 169,
      "metadata": {
        "colab": {
          "base_uri": "https://localhost:8080/"
        },
        "id": "fc788e28-ade8-4ed6-b9d6-2c612206d0fc",
        "outputId": "70103db1-c7e2-4da4-a2c3-acf9e487f87c"
      },
      "outputs": [
        {
          "output_type": "stream",
          "name": "stdout",
          "text": [
            "0.102863329477903\n",
            "maximo de vueltas inutiles 1\n",
            "0.1911845137226421\n"
          ]
        }
      ],
      "source": [
        "print(mymodularity(MDG1A,c))\n",
        "comunidades_optimizadas = tabu_modularity_optimization(MDG1A,c)\n",
        "print(mymodularity(MDG1A,comunidades_optimizadas))"
      ],
      "id": "fc788e28-ade8-4ed6-b9d6-2c612206d0fc"
    }
  ],
  "metadata": {
    "colab": {
      "collapsed_sections": [],
      "name": "test_notebook.ipynb",
      "provenance": []
    },
    "kernelspec": {
      "display_name": "Python 3 (ipykernel)",
      "language": "python",
      "name": "python3"
    },
    "language_info": {
      "codemirror_mode": {
        "name": "ipython",
        "version": 3
      },
      "file_extension": ".py",
      "mimetype": "text/x-python",
      "name": "python",
      "nbconvert_exporter": "python",
      "pygments_lexer": "ipython3",
      "version": "3.9.1"
    }
  },
  "nbformat": 4,
  "nbformat_minor": 5
}